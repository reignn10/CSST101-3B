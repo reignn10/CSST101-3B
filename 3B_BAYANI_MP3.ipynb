{
  "nbformat": 4,
  "nbformat_minor": 0,
  "metadata": {
    "colab": {
      "provenance": []
    },
    "kernelspec": {
      "name": "python3",
      "display_name": "Python 3"
    },
    "language_info": {
      "name": "python"
    }
  },
  "cells": [
    {
      "cell_type": "markdown",
      "source": [
        "P1"
      ],
      "metadata": {
        "id": "Z70dkP9wTAAx"
      }
    },
    {
      "cell_type": "code",
      "execution_count": null,
      "metadata": {
        "id": "MuHv6pX5Gs5_"
      },
      "outputs": [],
      "source": [
        "# Function to calculate joint probability\n",
        "def joint_probability(p_a, p_b_given_a):\n",
        "    return p_a * p_b_given_a\n",
        "\n",
        "# Function to calculate marginal probability\n",
        "def marginal_probability(p_a, p_b):\n",
        "    return p_a + p_b - joint_probability(p_a, p_b)\n",
        "\n",
        "# Function to calculate conditional probability using Bayes' Theorem\n",
        "def conditional_probability(p_a, p_b_given_a, p_b):\n",
        "    return (p_b_given_a * p_a) / p_b\n",
        "\n",
        "# Interactive component\n",
        "def main():\n",
        "    # Prompt user for inputs\n",
        "    p_a = float(input(\"Enter probability of event A: \"))\n",
        "    p_b = float(input(\"Enter probability of event B: \"))\n",
        "    p_b_given_a = float(input(\"Enter probability of B given A: \"))\n",
        "\n",
        "    # Calculate probabilities\n",
        "    joint_prob = joint_probability(p_a, p_b_given_a)\n",
        "    marginal_prob = marginal_probability(p_a, p_b)\n",
        "    conditional_prob = conditional_probability(p_a, p_b_given_a, p_b)\n",
        "\n",
        "    # Display results\n",
        "    print(f\"\\nJoint probability: {joint_prob}\")\n",
        "    print(f\"Marginal probability: {marginal_prob}\")\n",
        "    print(f\"Conditional probability: {conditional_prob}\")\n",
        "\n",
        "# Run the main function\n",
        "if __name__ == \"__main__\":\n",
        "    main()\n"
      ]
    },
    {
      "cell_type": "markdown",
      "source": [
        "P2"
      ],
      "metadata": {
        "id": "-QZCxXDfTEqa"
      }
    },
    {
      "cell_type": "code",
      "source": [
        "# Function to calculate posterior probability using Bayes' Theorem\n",
        "def bayesian_inference(prior, likelihood, marginal):\n",
        "    return (likelihood * prior) / marginal\n",
        "\n",
        "# Interactive component\n",
        "def main():\n",
        "    # Prompt user for inputs\n",
        "    prior = float(input(\"Enter the prior probability of disease: \"))\n",
        "    likelihood = float(input(\"Enter the likelihood of a positive test given disease: \"))\n",
        "    marginal = float(input(\"Enter the overall probability of a positive test: \"))\n",
        "\n",
        "    # Calculate posterior probability\n",
        "    posterior = bayesian_inference(prior, likelihood, marginal)\n",
        "\n",
        "    # Display result\n",
        "    print(f\"\\nPosterior probability of disease given positive test: {posterior}\")\n",
        "\n",
        "# Run the main function\n",
        "if __name__ == \"__main__\":\n",
        "    main()\n"
      ],
      "metadata": {
        "id": "VX0LzVKETLeV"
      },
      "execution_count": null,
      "outputs": []
    },
    {
      "cell_type": "markdown",
      "source": [
        "P3"
      ],
      "metadata": {
        "id": "6DsEZt-ETyZg"
      }
    },
    {
      "cell_type": "code",
      "source": [
        "import numpy as np\n",
        "\n",
        "# Function to simulate decision-making under uncertainty\n",
        "def simulate_decision(prob_success, reward, penalty, trials):\n",
        "    outcomes = []\n",
        "    for _ in range(trials):\n",
        "        if np.random.rand() < prob_success:\n",
        "            outcomes.append(reward)\n",
        "        else:\n",
        "            outcomes.append(penalty)\n",
        "    average_return = np.mean(outcomes)\n",
        "    return average_return\n",
        "\n",
        "# Interactive component\n",
        "def main():\n",
        "    # Prompt user for inputs\n",
        "    prob_success = float(input(\"Enter the probability of success: \"))\n",
        "    reward = float(input(\"Enter the reward for success: \"))\n",
        "    penalty = float(input(\"Enter the penalty for failure: \"))\n",
        "    trials = int(input(\"Enter the number of trials: \"))\n",
        "\n",
        "    # Run simulation\n",
        "    print(f\"\\nSimulating {trials} decisions...\")\n",
        "    avg_return = simulate_decision(prob_success, reward, penalty, trials)\n",
        "\n",
        "    # Display result\n",
        "    print(f\"\\nAverage return: {avg_return}\")\n",
        "\n",
        "# Run the main function\n",
        "if __name__ == \"__main__\":\n",
        "    main()\n"
      ],
      "metadata": {
        "id": "NX7qdTupT0PY"
      },
      "execution_count": null,
      "outputs": []
    },
    {
      "cell_type": "markdown",
      "source": [
        "P4"
      ],
      "metadata": {
        "id": "VBrbm9ZrUR5x"
      }
    },
    {
      "cell_type": "code",
      "source": [
        "import numpy as np\n",
        "import matplotlib.pyplot as plt\n",
        "\n",
        "# Function to generate and plot binomial distribution\n",
        "def plot_binomial(trials, prob_success):\n",
        "    data = np.random.binomial(n=1, p=prob_success, size=trials)\n",
        "    plt.hist(data, bins=2, edgecolor='black')\n",
        "    plt.title('Binomial Distribution (Coin Flips)')\n",
        "    plt.xlabel('Outcome')\n",
        "    plt.ylabel('Frequency')\n",
        "    plt.xticks([0, 1], ['Tails', 'Heads'])\n",
        "    plt.show()\n",
        "\n",
        "# Function to generate and plot normal distribution\n",
        "def plot_normal(trials):\n",
        "    data = np.random.normal(loc=0, scale=1, size=trials)\n",
        "    plt.hist(data, bins=30, edgecolor='black')\n",
        "    plt.title('Normal Distribution (Exam Scores)')\n",
        "    plt.xlabel('Value')\n",
        "    plt.ylabel('Frequency')\n",
        "    plt.show()\n",
        "\n",
        "# Interactive component\n",
        "def main():\n",
        "    print(\"Choose a distribution to simulate:\")\n",
        "    print(\"1. Binomial (coin flips)\")\n",
        "    print(\"2. Normal (exam scores)\")\n",
        "    choice = int(input(\"\\nEnter your choice (1 or 2): \"))\n",
        "\n",
        "    trials = int(input(\"Enter the number of trials: \"))\n",
        "\n",
        "    if choice == 1:\n",
        "        prob_success = float(input(\"Enter the probability of heads (for binomial): \"))\n",
        "        print(\"\\nGenerating histogram...\")\n",
        "        plot_binomial(trials, prob_success)\n",
        "    elif choice == 2:\n",
        "        print(\"\\nGenerating histogram...\")\n",
        "        plot_normal(trials)\n",
        "    else:\n",
        "        print(\"Invalid choice. Please enter 1 or 2.\")\n",
        "\n",
        "# Run the main function\n",
        "if __name__ == \"__main__\":\n",
        "    main()\n"
      ],
      "metadata": {
        "id": "VLr_S7l_UUBe"
      },
      "execution_count": null,
      "outputs": []
    },
    {
      "cell_type": "markdown",
      "source": [
        "p5"
      ],
      "metadata": {
        "id": "6JCb28_zUrk0"
      }
    },
    {
      "cell_type": "code",
      "source": [
        "# Import necessary libraries\n",
        "import numpy as np\n",
        "\n",
        "# Function to calculate the probability of rain\n",
        "def calculate_rain_probability(humidity, cloud_cover):\n",
        "    # Example coefficients for a simple linear model\n",
        "    # These coefficients would ideally be determined by a more complex model or historical data\n",
        "    intercept = 0.1\n",
        "    humidity_coeff = 0.5\n",
        "    cloud_cover_coeff = 0.4\n",
        "\n",
        "    # Calculate the probability of rain\n",
        "    probability_of_rain = intercept + (humidity_coeff * humidity) + (cloud_cover_coeff * cloud_cover)\n",
        "\n",
        "    # Ensure the probability is between 0 and 1\n",
        "    probability_of_rain = max(0, min(1, probability_of_rain))\n",
        "\n",
        "    return probability_of_rain\n",
        "\n",
        "# Interactive component\n",
        "def main():\n",
        "    # Ask the user to input the values for humidity and cloud cover\n",
        "    humidity = float(input(\"Enter the humidity level (0 to 1): \"))\n",
        "    cloud_cover = float(input(\"Enter the cloud cover level (0 to 1): \"))\n",
        "\n",
        "    # Calculate the probability of rain\n",
        "    probability_of_rain = calculate_rain_probability(humidity, cloud_cover)\n",
        "\n",
        "    # Provide feedback on how likely it is to rain\n",
        "    print(f\"The probability of rain is: {probability_of_rain:.2f}\")\n",
        "\n",
        "    if probability_of_rain > 0.5:\n",
        "        print(\"It is likely to rain.\")\n",
        "    else:\n",
        "        print(\"It is unlikely to rain.\")\n",
        "\n",
        "# Run the main function\n",
        "if __name__ == \"__main__\":\n",
        "    main()\n"
      ],
      "metadata": {
        "id": "kKwhBpmkUuLa"
      },
      "execution_count": null,
      "outputs": []
    }
  ]
}