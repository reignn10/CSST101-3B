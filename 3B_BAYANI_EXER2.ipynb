{
  "nbformat": 4,
  "nbformat_minor": 0,
  "metadata": {
    "colab": {
      "provenance": []
    },
    "kernelspec": {
      "name": "python3",
      "display_name": "Python 3"
    },
    "language_info": {
      "name": "python"
    }
  },
  "cells": [
    {
      "cell_type": "markdown",
      "source": [
        "Exer 1"
      ],
      "metadata": {
        "id": "BH_vRvgZ1NDH"
      }
    },
    {
      "cell_type": "code",
      "source": [
        "def joint_probability(p_A, p_B):\n",
        "    return p_A * p_B\n",
        "\n",
        "def marginal_probability(p_A, p_B):\n",
        "    return p_A + p_B - joint_probability(p_A, p_B)\n",
        "\n",
        "def conditional_probability(p_B_given_A, p_A):\n",
        "    return p_B_given_A * p_A\n",
        "\n",
        "p_A = 0.3\n",
        "p_B = 0.4\n",
        "p_B_given_A = 0.8\n",
        "\n",
        "print(f\"Joint Probability: {joint_probability(p_A, p_B)}\")\n",
        "print(f\"Marginal Probability: {marginal_probability(p_A, p_B)}\")\n",
        "print(f\"Conditional Probability: {conditional_probability(p_B_given_A, p_A)}\")\n"
      ],
      "metadata": {
        "id": "qFrhXyL70nsv"
      },
      "execution_count": null,
      "outputs": []
    },
    {
      "cell_type": "markdown",
      "source": [
        "asses 1"
      ],
      "metadata": {
        "id": "XrD5hsqG8WCw"
      }
    },
    {
      "cell_type": "code",
      "source": [
        "p_A = 0.3\n",
        "p_B = 0.4\n",
        "\n",
        "joint_prob = joint_probability(p_A, p_B)\n",
        "print(f\"Joint Probability of A and B: {joint_prob}\")\n",
        "\n",
        "Joint Probability of A and B: 0.12"
      ],
      "metadata": {
        "id": "CnqfPPfL8U40",
        "outputId": "10495b61-5cb8-47d2-ebed-5ed11700fcc7",
        "colab": {
          "base_uri": "https://localhost:8080/",
          "height": 106
        }
      },
      "execution_count": null,
      "outputs": [
        {
          "output_type": "error",
          "ename": "SyntaxError",
          "evalue": "invalid syntax (<ipython-input-3-1507635f9fe4>, line 7)",
          "traceback": [
            "\u001b[0;36m  File \u001b[0;32m\"<ipython-input-3-1507635f9fe4>\"\u001b[0;36m, line \u001b[0;32m7\u001b[0m\n\u001b[0;31m    Joint Probability of A and B: 0.12\u001b[0m\n\u001b[0m          ^\u001b[0m\n\u001b[0;31mSyntaxError\u001b[0m\u001b[0;31m:\u001b[0m invalid syntax\n"
          ]
        }
      ]
    },
    {
      "cell_type": "markdown",
      "source": [
        "EXER 2"
      ],
      "metadata": {
        "id": "zJNeqVw11Q6O"
      }
    },
    {
      "cell_type": "code",
      "source": [
        "import numpy as np\n",
        "\n",
        "def simulate_decision(num_simulations, p_success, reward_success, reward_failure):\n",
        "    outcomes = []\n",
        "\n",
        "    for _ in range(num_simulations):\n",
        "        if np.random.rand() < p_success:\n",
        "            outcomes.append(reward_success)\n",
        "        else:\n",
        "            outcomes.append(reward_failure)\n",
        "\n",
        "    return np.mean(outcomes)\n",
        "\n",
        "p_success = 0.7\n",
        "reward_success = 1000\n",
        "reward_failure = 500\n",
        "\n",
        "print(f\"Average Outcome: {simulate_decision(1000, p_success, reward_success, reward_failure)}\")"
      ],
      "metadata": {
        "colab": {
          "base_uri": "https://localhost:8080/"
        },
        "id": "OgfFR19S1Rh9",
        "outputId": "645df5bd-a18a-4152-908e-26ee21f61318"
      },
      "execution_count": null,
      "outputs": [
        {
          "output_type": "stream",
          "name": "stdout",
          "text": [
            "Average Outcome: 844.0\n"
          ]
        }
      ]
    },
    {
      "cell_type": "markdown",
      "source": [
        "asses 2"
      ],
      "metadata": {
        "id": "UxHT8lAa-URB"
      }
    },
    {
      "cell_type": "code",
      "source": [
        "To determine the probability that someone who tested positive for a disease actually has it, we can use Bayes' Theorem. Given that the test has a 90% accuracy for positive results (sensitivity) and a 5% false positive rate, with 1% of the population having the disease, we start by calculating the overall probability of a positive test result. This is done by combining the probability of a true positive (0.90 * 0.01) and the probability of a false positive (0.05 * 0.99), which sums up to 0.0585. Using Bayes' Theorem, we then find the probability of having the disease given a positive test result by dividing the probability of a true positive by the overall probability of a positive test. This calculation yields approximately 15.38%, meaning that if someone tests positive, there is about a 15.38% chance they actually have the disease. This relatively low probability highlights the importance of considering both the accuracy of the test and the prevalence of the disease in the population when interpreting test results."
      ],
      "metadata": {
        "id": "M9nrfERf_EVp"
      },
      "execution_count": null,
      "outputs": []
    },
    {
      "cell_type": "markdown",
      "source": [
        "exer 3"
      ],
      "metadata": {
        "id": "eLXwDYgm3ZN3"
      }
    },
    {
      "cell_type": "code",
      "source": [
        "def bayesian_inference(prior, likelihood_positive_given_disease, likelihood_positive):\n",
        "    posterior = (likelihood_positive_given_disease * prior) / likelihood_positive\n",
        "    return posterior\n",
        "\n",
        "prior_disease = 0.01\n",
        "likelihood_positive_given_disease = 0.9\n",
        "likelihood_positive = 0.0585  # This should be the total probability of a positive test\n",
        "\n",
        "posterior_disease = bayesian_inference(prior_disease, likelihood_positive_given_disease, likelihood_positive)\n",
        "print(f\"Posterior probability of disease given positive test: {posterior_disease}\")"
      ],
      "metadata": {
        "id": "MJi8M6mP2a8h",
        "outputId": "1837f2ab-c8f2-4064-81a3-bc06d0f828b8",
        "colab": {
          "base_uri": "https://localhost:8080/"
        }
      },
      "execution_count": null,
      "outputs": [
        {
          "output_type": "stream",
          "name": "stdout",
          "text": [
            "Posterior probability of disease given positive test: 0.15384615384615385\n"
          ]
        }
      ]
    },
    {
      "cell_type": "markdown",
      "source": [
        "asses 3"
      ],
      "metadata": {
        "id": "H_6cDNdqCqPa"
      }
    },
    {
      "cell_type": "code",
      "source": [
        "Original Prior (0.01)**: Posterior probability is approximately 0.154. The New Prior (0.05)**: Posterior probability will be higher, reflecting the increased initial belief."
      ],
      "metadata": {
        "id": "JTe0abEiBP7s"
      },
      "execution_count": null,
      "outputs": []
    },
    {
      "cell_type": "markdown",
      "source": [
        "exer 4"
      ],
      "metadata": {
        "id": "ftx4j8Cm5-hj"
      }
    },
    {
      "cell_type": "code",
      "source": [
        "import numpy as np\n",
        "import matplotlib.pyplot as plt\n",
        "\n",
        "# Parameters\n",
        "n_trials = 1000\n",
        "p_head = 0.5\n",
        "\n",
        "# Generate binomial distribution\n",
        "binomial_distribution = np.random.binomial(n=1, p=p_head, size=n_trials)\n",
        "\n",
        "# Plot histogram\n",
        "plt.hist(binomial_distribution, bins=2, edgecolor='black')\n",
        "plt.title('Binomial Distribution (Coin Flips)')\n",
        "plt.xlabel('Outcome')\n",
        "plt.ylabel('Frequency')\n",
        "plt.xticks([0, 1], ['Tails', 'Heads'])\n",
        "plt.show()"
      ],
      "metadata": {
        "id": "IT0UP4Bl57pS",
        "outputId": "94f754a8-3b24-4a55-ae75-10cc99b9be21",
        "colab": {
          "base_uri": "https://localhost:8080/",
          "height": 472
        }
      },
      "execution_count": null,
      "outputs": [
        {
          "output_type": "display_data",
          "data": {
            "text/plain": [
              "<Figure size 640x480 with 1 Axes>"
            ],
            "image/png": "[encoded data removed]"
          },
          "metadata": {}
        }
      ]
    },
    {
      "cell_type": "markdown",
      "source": [
        "exer 5"
      ],
      "metadata": {
        "id": "B2xAxK0r6uuA"
      }
    },
    {
      "cell_type": "code",
      "source": [
        "# Given probabilities\n",
        "p_purchase_given_cart = 0.4\n",
        "p_cart = 0.3\n",
        "\n",
        "# Calculate the probability of purchase\n",
        "p_purchase = p_purchase_given_cart * p_cart\n",
        "print(f\"Probability of purchase: {p_purchase}\")\n"
      ],
      "metadata": {
        "id": "kvvI7JQ16wSf",
        "outputId": "415af274-aa05-4bf7-cbbf-53f312f210af",
        "colab": {
          "base_uri": "https://localhost:8080/"
        }
      },
      "execution_count": null,
      "outputs": [
        {
          "output_type": "stream",
          "name": "stdout",
          "text": [
            "Probability of purchase: 0.12\n"
          ]
        }
      ]
    },
    {
      "cell_type": "markdown",
      "source": [
        "asses 5"
      ],
      "metadata": {
        "id": "NjwC_o7EDQUU"
      }
    },
    {
      "cell_type": "code",
      "source": [
        "Increasing the number of trials will make the observed purchase rate more likely to be close to the true probability of 0.12. The concept of \"probability of heads\" is not directly applicable to the purchase probability unless we're considering a hypothetical scenario where a coin flip determines purchases."
      ],
      "metadata": {
        "id": "vcC1ApJ7DRqF"
      },
      "execution_count": null,
      "outputs": []
    }
  ]
}