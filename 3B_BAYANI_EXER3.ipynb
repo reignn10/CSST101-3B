{
  "nbformat": 4,
  "nbformat_minor": 0,
  "metadata": {
    "colab": {
      "provenance": []
    },
    "kernelspec": {
      "name": "python3",
      "display_name": "Python 3"
    },
    "language_info": {
      "name": "python"
    }
  },
  "cells": [
    {
      "cell_type": "markdown",
      "source": [
        "P1"
      ],
      "metadata": {
        "id": "ph-zjX8crlXK"
      }
    },
    {
      "cell_type": "code",
      "source": [
        "# Import necessary libraries\n",
        "import pandas as pd\n",
        "import numpy as np\n",
        "from sklearn.model_selection import train_test_split\n",
        "from sklearn.ensemble import RandomForestClassifier\n",
        "from sklearn.metrics import accuracy_score, classification_report\n",
        "\n",
        "# Generate a synthetic dataset\n",
        "np.random.seed(42)\n",
        "num_samples = 1000\n",
        "data = pd.DataFrame({\n",
        "    'symptom1': np.random.rand(num_samples),\n",
        "    'symptom2': np.random.rand(num_samples),\n",
        "    'test_result1': np.random.rand(num_samples),\n",
        "    'test_result2': np.random.rand(num_samples),\n",
        "    'diagnosis': np.random.randint(0, 2, num_samples)\n",
        "})\n",
        "\n",
        "# Display the first few rows of the dataset\n",
        "print(data.head())\n",
        "\n",
        "# Define features and target variable\n",
        "features = data[['symptom1', 'symptom2', 'test_result1', 'test_result2']]\n",
        "target = data['diagnosis']\n",
        "\n",
        "# Split the data into training and testing sets\n",
        "X_train, X_test, y_train, y_test = train_test_split(features, target, test_size=0.2, random_state=42)\n",
        "\n",
        "# Initialize the model\n",
        "model = RandomForestClassifier(n_estimators=100, random_state=42)\n",
        "\n",
        "# Train the model\n",
        "model.fit(X_train, y_train)\n",
        "\n",
        "# Make predictions on the test set\n",
        "y_pred = model.predict(X_test)\n",
        "\n",
        "# Evaluate the model\n",
        "accuracy = accuracy_score(y_test, y_pred)\n",
        "print(f'Accuracy: {accuracy}')\n",
        "print('Classification Report:')\n",
        "print(classification_report(y_test, y_pred))\n",
        "\n",
        "# Example prediction\n",
        "# Replace with actual symptom and test result values\n",
        "example_data = np.array([[0.5, 0.5, 0.5, 0.5]])\n",
        "prediction = model.predict(example_data)\n",
        "print(f'Prediction: {prediction}')\n"
      ],
      "metadata": {
        "id": "s21IEob0rnFm"
      },
      "execution_count": null,
      "outputs": []
    },
    {
      "cell_type": "markdown",
      "source": [
        "P2"
      ],
      "metadata": {
        "id": "ALg67wRfrpbQ"
      }
    },
    {
      "cell_type": "code",
      "source": [
        "# Import necessary libraries\n",
        "import numpy as np\n",
        "\n",
        "# Define probabilities\n",
        "P_D = 0.01  # Prior probability of the disease (e.g., 1% prevalence)\n",
        "P_S_given_D = 0.9  # Probability of symptoms given the disease (e.g., 90% chance of symptoms if disease is present)\n",
        "P_S_given_not_D = 0.1  # Probability of symptoms given no disease (e.g., 10% chance of symptoms if disease is absent)\n",
        "\n",
        "# Calculate total probability of symptoms P(S)\n",
        "P_not_D = 1 - P_D  # Probability of not having the disease\n",
        "P_S = (P_S_given_D * P_D) + (P_S_given_not_D * P_not_D)  # Total probability of symptoms\n",
        "\n",
        "# Calculate P(D|S) using Bayes' Theorem\n",
        "P_D_given_S = (P_S_given_D * P_D) / P_S\n",
        "\n",
        "# Output the results\n",
        "print(f\"Probability of Disease given Symptoms: {P_D_given_S:.4f}\")"
      ],
      "metadata": {
        "id": "FYWrYQ93rrJw"
      },
      "execution_count": null,
      "outputs": []
    },
    {
      "cell_type": "markdown",
      "source": [
        "P3"
      ],
      "metadata": {
        "id": "6erY82xsrt1w"
      }
    },
    {
      "cell_type": "code",
      "source": [
        "# Import necessary libraries\n",
        "import numpy as np\n",
        "import matplotlib.pyplot as plt\n",
        "\n",
        "# Part 2: Bayesian Inference Calculation\n",
        "# Define probabilities\n",
        "P_D = 0.01  # Prior probability of disease\n",
        "P_S_given_D = 0.9  # Probability of symptoms given disease\n",
        "P_S = (P_S_given_D * P_D) + (0.1 * (1 - P_D))  # Total probability of symptoms\n",
        "\n",
        "# Calculate P(D|S)\n",
        "P_D_given_S = (P_S_given_D * P_D) / P_S\n",
        "print(f\"Probability of Disease given Symptoms: {P_D_given_S:.4f}\")\n",
        "\n",
        "# Part 3: Decision-Making Simulation\n",
        "# Define outcomes and their probabilities\n",
        "outcomes = ['Outcome A', 'Outcome B', 'Outcome C']\n",
        "probabilities = [0.5, 0.3, 0.2]  # Probabilities must sum to 1\n",
        "\n",
        "# Calculate expected value\n",
        "expected_value = sum([p * (i + 1) for i, p in enumerate(probabilities)])\n",
        "print(f\"Expected Value of Decision Making: {expected_value:.2f}\")\n",
        "\n",
        "# Visualization of Probability Distribution\n",
        "plt.bar(outcomes, probabilities)\n",
        "plt.xlabel('Outcomes')\n",
        "plt.ylabel('Probabilities')\n",
        "plt.title('Probability Distribution of Outcomes')\n",
        "plt.show()"
      ],
      "metadata": {
        "id": "T0v2CZ4Hruz0"
      },
      "execution_count": null,
      "outputs": []
    },
    {
      "cell_type": "markdown",
      "source": [
        "P4"
      ],
      "metadata": {
        "id": "Ac8K94Myrwvx"
      }
    },
    {
      "cell_type": "code",
      "source": [
        "import numpy as np\n",
        "import matplotlib.pyplot as plt\n",
        "from scipy.stats import binom\n",
        "\n",
        "# Parameters\n",
        "n = 5  # Number of coin flips\n",
        "p = 0.5  # Probability of getting heads\n",
        "\n",
        "# Possible outcomes (0 to 5 heads)\n",
        "x = np.arange(0, n+1)\n",
        "\n",
        "# Probability mass function\n",
        "pmf = binom.pmf(x, n, p)\n",
        "\n",
        "# Plotting the probability distribution\n",
        "plt.bar(x, pmf, color='blue', alpha=0.7)\n",
        "plt.xlabel('Number of Heads')\n",
        "plt.ylabel('Probability')\n",
        "plt.title('Probability Distribution of Getting 0 to 5 Heads in 5 Coin Flips')\n",
        "plt.xticks(x)\n",
        "plt.grid(axis='y', linestyle='--', alpha=0.7)\n",
        "plt.show()\n"
      ],
      "metadata": {
        "id": "t9UiOe_cr5Ky"
      },
      "execution_count": null,
      "outputs": []
    },
    {
      "cell_type": "markdown",
      "source": [
        "RQ:"
      ],
      "metadata": {
        "id": "M6JePXg7r6_E"
      }
    },
    {
      "cell_type": "code",
      "source": [
        "Understanding probability theory profoundly influences decision-making in medical systems, as it allows us to quantify uncertainty and assess risks associated with various diagnoses and treatments. Personally, I find that grasping concepts like Bayes' Theorem helps me evaluate the likelihood of a disease given certain symptoms, which is crucial for making informed choices about patient care. It empowers healthcare professionals to weigh the benefits and drawbacks of different interventions, ultimately leading to better patient outcomes. By applying these principles, I feel more confident in navigating complex medical scenarios and contributing to effective healthcare solutions."
      ],
      "metadata": {
        "id": "5oYaD8y4r-BR"
      },
      "execution_count": null,
      "outputs": []
    }
  ]
}