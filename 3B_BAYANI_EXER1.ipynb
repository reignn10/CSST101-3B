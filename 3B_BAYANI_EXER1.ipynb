{
  "nbformat": 4,
  "nbformat_minor": 0,
  "metadata": {
    "colab": {
      "provenance": []
    },
    "kernelspec": {
      "name": "python3",
      "display_name": "Python 3"
    },
    "language_info": {
      "name": "python"
    }
  },
  "cells": [
    {
      "cell_type": "markdown",
      "source": [
        "**Exercise 1: Propositional Logic in Python**"
      ],
      "metadata": {
        "id": "5RoI6iAL6RR3"
      }
    },
    {
      "cell_type": "code",
      "execution_count": null,
      "metadata": {
        "colab": {
          "base_uri": "https://localhost:8080/"
        },
        "id": "1K3hQPEL4EQN",
        "outputId": "b58cda7b-114e-4e2f-ef0b-eb09c44c31d4"
      },
      "outputs": [
        {
          "output_type": "stream",
          "name": "stdout",
          "text": [
            "Do not match lights\n"
          ]
        }
      ],
      "source": [
        "rains = True\n",
        "\n",
        "def ground_wet (rains):\n",
        "    return rains\n",
        "\n",
        "def match_lights(ground_wet):\n",
        "  return not ground_wet\n",
        "\n",
        "if rains:\n",
        "  is_ground_wet = ground_wet(rains)\n",
        "  can_match_lights = match_lights(is_ground_wet)\n",
        "\n",
        "if can_match_lights:\n",
        "  print(\"Match lights\")\n",
        "else:\n",
        "  print(\"Do not match lights\")"
      ]
    },
    {
      "cell_type": "markdown",
      "source": [
        "**Exercise 2: Predicate logic representation**"
      ],
      "metadata": {
        "id": "tnBGCcbC9EnM"
      }
    },
    {
      "cell_type": "code",
      "source": [
        "def isHuman(person):\n",
        "  return person == \"Socrates\"\n",
        "\n",
        "def isMortal(person):\n",
        "  if isHuman(person):\n",
        "    return True\n",
        "  else:\n",
        "    return False\n",
        "\n",
        "person = \"Socrates\"\n",
        "\n",
        "if isMortal(person):\n",
        "  print(person + \" is mortal\")\n",
        "else:\n",
        "  print(person + \" is not mortal\")"
      ],
      "metadata": {
        "colab": {
          "base_uri": "https://localhost:8080/"
        },
        "id": "rPNl_Xdq9DtF",
        "outputId": "456028ce-cb2b-44e3-e733-17a64e60d798"
      },
      "execution_count": null,
      "outputs": [
        {
          "output_type": "stream",
          "name": "stdout",
          "text": [
            "Socrates is mortal\n"
          ]
        }
      ]
    },
    {
      "cell_type": "markdown",
      "source": [
        "**Exercise 3: Interference techniques logic**"
      ],
      "metadata": {
        "id": "Isx-Bwwi_A-Y"
      }
    },
    {
      "cell_type": "code",
      "source": [
        "def modus_ponens(rules,facts):\n",
        "  conclusions = []\n",
        "  for rule in rules:\n",
        "    premise, conclusion = rule\n",
        "    if premise in facts:\n",
        "      conclusions. append(conclusion)\n",
        "    return conclusions\n",
        "\n",
        "rules = [(\"X\",\"Y\")]\n",
        "\n",
        "facts = [\"X\"]\n",
        "\n",
        "conclusions = modus_ponens(rules,facts)\n",
        "print(\"Inferred Conclusion:\", conclusions)"
      ],
      "metadata": {
        "colab": {
          "base_uri": "https://localhost:8080/"
        },
        "id": "N9z42QTr_BTa",
        "outputId": "0b47e7ef-b18a-4c0b-8207-a1b725434d53"
      },
      "execution_count": null,
      "outputs": [
        {
          "output_type": "stream",
          "name": "stdout",
          "text": [
            "Inferred Conclusion: ['Y']\n"
          ]
        }
      ]
    },
    {
      "cell_type": "markdown",
      "source": [
        "**Exercise 4:**"
      ],
      "metadata": {
        "id": "lq1rnqzdBY7P"
      }
    },
    {
      "cell_type": "code",
      "source": [
        "hungry = True\n",
        "eats = False\n",
        "\n",
        "if hungry:\n",
        "  eats = True\n",
        "\n",
        "if eats:\n",
        "  hungry = False\n",
        "\n",
        "if not hungry:\n",
        "  print(\"John is not hungry\")\n",
        "else:\n",
        "  print(\"John is hungry\")"
      ],
      "metadata": {
        "colab": {
          "base_uri": "https://localhost:8080/"
        },
        "id": "2REf5y0oBZLi",
        "outputId": "85c6409f-f612-4359-fcc7-c9fecd2ea208"
      },
      "execution_count": null,
      "outputs": [
        {
          "output_type": "stream",
          "name": "stdout",
          "text": [
            "John is not hungry\n"
          ]
        }
      ]
    },
    {
      "cell_type": "markdown",
      "source": [
        "**Exercise 5:**"
      ],
      "metadata": {
        "id": "ziefSnSNCbjZ"
      }
    },
    {
      "cell_type": "code",
      "source": [
        "def is_greeting(statement):\n",
        "  greetings = [\"hello\",\"hi\",\"hey\"]\n",
        "  return statement.lower() in greetings\n",
        "\n",
        "def respond(statement):\n",
        "  if is_greeting(statement):\n",
        "    return \"Hello!, How can I help you?\"\n",
        "  else:\n",
        "    return \"I'm sorry, I didn't understand that\"\n",
        "\n",
        "user_input = input(\"User:\")\n",
        "response = respond(user_input)\n",
        "print(f\"Chatbot: {response}\")"
      ],
      "metadata": {
        "colab": {
          "base_uri": "https://localhost:8080/"
        },
        "id": "vdZNCLoYCb32",
        "outputId": "fa34a1bb-da64-4ac4-b471-06c25454c27a"
      },
      "execution_count": null,
      "outputs": [
        {
          "output_type": "stream",
          "name": "stdout",
          "text": [
            "User:hey\n",
            "Chatbot: Hello!, How can I help you?\n"
          ]
        }
      ]
    },
    {
      "cell_type": "markdown",
      "source": [
        "**Exercise 6: Case study**"
      ],
      "metadata": {
        "id": "l7cMRsCeEkOt"
      }
    },
    {
      "cell_type": "code",
      "source": [
        "def is_recipe_request(statement):\n",
        "  keywords = [\"recipe\", \"how to make\", \"cook\"]\n",
        "  return any(keyword in statement.lower() for keyword in keywords)\n",
        "\n",
        "def respond(statement):\n",
        "  if is_recipe_request(statement):\n",
        "    # Assuming you have a database of recipes\n",
        "    ingredients = extract_ingredients(statement)\n",
        "    recipe = find_recipe_by_ingredients(ingredients)\n",
        "    if recipe:\n",
        "      return recipe\n",
        "    else:\n",
        "      return \"I couldn't find a recipe with those ingredients. Please try different ones.\"\n",
        "  else:\n",
        "    return \"I'm sorry, I didn't understand that. Please try rephrasing your request.\"\n",
        "\n",
        "# Function to extract ingredients from a statement\n",
        "def extract_ingredients(statement):\n",
        "  # Implement logic to extract ingredients from the statement\n",
        "  # For example, using regular expressions or natural language processing techniques\n",
        "  return []\n",
        "\n",
        "# Function to find a recipe based on ingredients\n",
        "def find_recipe_by_ingredients(ingredients):\n",
        "  # Implement logic to search a recipe database\n",
        "  # For example, using a database query or a knowledge graph\n",
        "  return None\n",
        "\n",
        "while True:\n",
        "  user_input = input(\"User: \")\n",
        "  response = respond(user_input)\n",
        "  print(\"Chatbot:\", response)"
      ],
      "metadata": {
        "colab": {
          "base_uri": "https://localhost:8080/"
        },
        "id": "yDzKKaEJEklX",
        "outputId": "6cf0632f-153d-40e2-be75-fe617950a745"
      },
      "execution_count": null,
      "outputs": [
        {
          "output_type": "stream",
          "name": "stdout",
          "text": [
            "User: cook\n",
            "Chatbot: I couldn't find a recipe with those ingredients. Please try different ones.\n",
            "User: food\n",
            "Chatbot: I'm sorry, I didn't understand that. Please try rephrasing your request.\n"
          ]
        }
      ]
    }
  ]
}